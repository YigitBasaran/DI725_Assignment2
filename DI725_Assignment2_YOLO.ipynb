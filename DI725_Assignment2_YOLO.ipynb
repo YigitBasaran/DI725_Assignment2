{
 "cells": [
  {
   "cell_type": "code",
   "execution_count": 1,
   "metadata": {
    "colab": {
     "base_uri": "https://localhost:8080/"
    },
    "executionInfo": {
     "elapsed": 100532,
     "status": "ok",
     "timestamp": 1744722474524,
     "user": {
      "displayName": "ali yiğit başaran",
      "userId": "07561520228647496516"
     },
     "user_tz": -180
    },
    "id": "Ar6Jwa3OjDs8",
    "outputId": "9f0ef1da-5e2c-4840-dde1-2da27494f87e"
   },
   "outputs": [],
   "source": [
    "# !pip install accelerate -U"
   ]
  },
  {
   "cell_type": "code",
   "execution_count": 2,
   "metadata": {
    "id": "SCalZeC5j0oU"
   },
   "outputs": [
    {
     "name": "stdout",
     "output_type": "stream",
     "text": [
      "✅ Cleaned annotations saved to: ./annotations/annotations.json\n"
     ]
    }
   ],
   "source": [
    "import json\n",
    "\n",
    "# File paths\n",
    "input_path = \"./annotations/annotations.json\"\n",
    "output_path = \"./annotations/annotations.json\"\n",
    "\n",
    "# Recursive function to clean dictionary keys\n",
    "def clean_keys(obj):\n",
    "    if isinstance(obj, dict):\n",
    "        return {k.rstrip(\":\"): clean_keys(v) for k, v in obj.items()}\n",
    "    elif isinstance(obj, list):\n",
    "        return [clean_keys(i) for i in obj]\n",
    "    else:\n",
    "        return obj\n",
    "\n",
    "# Load original data\n",
    "with open(input_path, \"r\") as f:\n",
    "    raw_data = json.load(f)\n",
    "\n",
    "# Clean all keys\n",
    "cleaned_data = clean_keys(raw_data)\n",
    "\n",
    "# Save cleaned data\n",
    "with open(output_path, \"w\") as f:\n",
    "    json.dump(cleaned_data, f, indent=4)\n",
    "\n",
    "print(f\"✅ Cleaned annotations saved to: {output_path}\")\n"
   ]
  },
  {
   "cell_type": "code",
   "execution_count": 3,
   "metadata": {
    "id": "D0zMKHnkj2WC"
   },
   "outputs": [
    {
     "name": "stdout",
     "output_type": "stream",
     "text": [
      "✅ COCO-format annotations saved to: ./annotations/auair_coco.json\n"
     ]
    }
   ],
   "source": [
    "import json\n",
    "import os\n",
    "\n",
    "# Step 1: Load cleaned annotation file\n",
    "with open(\"./annotations/annotations.json\", \"r\") as f:\n",
    "    auair_data = json.load(f)\n",
    "\n",
    "# Step 2: Convert to COCO format\n",
    "def convert_auair_to_coco(auair_data, output_path=\"./annotations/auair.coco.json\"):\n",
    "    images = []\n",
    "    annotations = []\n",
    "\n",
    "    # Define COCO-style categories from class names\n",
    "    categories = [{\"id\": i, \"name\": name} for i, name in enumerate(auair_data[\"categories\"])]\n",
    "\n",
    "    ann_id = 1  # unique annotation ID\n",
    "    for img_id, entry in enumerate(auair_data[\"annotations\"], start=1):\n",
    "        image_name = entry[\"image_name\"]\n",
    "        width = entry[\"image_width\"]\n",
    "        height = entry[\"image_height\"]\n",
    "\n",
    "        images.append({\n",
    "            \"id\": img_id,\n",
    "            \"file_name\": image_name,\n",
    "            \"width\": width,\n",
    "            \"height\": height\n",
    "        })\n",
    "\n",
    "        for bbox in entry[\"bbox\"]:\n",
    "            x = bbox[\"left\"]\n",
    "            y = bbox[\"top\"]\n",
    "            w = bbox[\"width\"]\n",
    "            h = bbox[\"height\"]\n",
    "            category_id = bbox[\"class\"]\n",
    "\n",
    "            annotations.append({\n",
    "                \"id\": ann_id,\n",
    "                \"image_id\": img_id,\n",
    "                \"category_id\": category_id,\n",
    "                \"bbox\": [x, y, w, h],       # COCO: [x, y, width, height]\n",
    "                \"area\": w * h,\n",
    "                \"iscrowd\": 0\n",
    "            })\n",
    "            ann_id += 1\n",
    "\n",
    "    coco_data = {\n",
    "        \"images\": images,\n",
    "        \"annotations\": annotations,\n",
    "        \"categories\": categories\n",
    "    }\n",
    "\n",
    "    # Step 3: Save to COCO format JSON file\n",
    "    with open(output_path, \"w\") as f:\n",
    "        json.dump(coco_data, f, indent=4)\n",
    "\n",
    "    print(f\"✅ COCO-format annotations saved to: {output_path}\")\n",
    "\n",
    "# Step 4: Run the conversion\n",
    "convert_auair_to_coco(\n",
    "    auair_data,\n",
    "    output_path=\"./annotations/auair_coco.json\"\n",
    ")\n"
   ]
  },
  {
   "cell_type": "code",
   "execution_count": 4,
   "metadata": {
    "id": "USawo_kGj2_e"
   },
   "outputs": [
    {
     "name": "stdout",
     "output_type": "stream",
     "text": [
      "✅ Total annotated images: 32823\n",
      "📂 Total actual image files: 32823\n",
      "\n",
      "❌ Missing image files (in annotations but not found on disk): 0\n",
      "📝 Unannotated image files (exist in folder but not in annotations): 0\n",
      "\n",
      "✅ Filtered COCO annotations saved to: ./annotations/auair_coco_filtered.json\n",
      "➡️ Valid images remaining: 32823\n",
      "➡️ Valid annotations remaining: 132031\n"
     ]
    }
   ],
   "source": [
    "import os\n",
    "import json\n",
    "\n",
    "# === PATHS ===\n",
    "image_folder = \"./AU-AIR/images\"\n",
    "annotation_file = \"./annotations/auair_coco.json\"\n",
    "filtered_annotation_path = \"./annotations/auair_coco_filtered.json\"\n",
    "\n",
    "# === LOAD ANNOTATION ===\n",
    "with open(annotation_file, \"r\") as f:\n",
    "    coco = json.load(f)\n",
    "\n",
    "# === IMAGE NAME CHECKS ===\n",
    "annotated_image_names = set(img[\"file_name\"] for img in coco[\"images\"])\n",
    "image_files = set(os.listdir(image_folder))\n",
    "\n",
    "missing_images = annotated_image_names - image_files\n",
    "unannotated_images = image_files - annotated_image_names\n",
    "\n",
    "# === REPORT ===\n",
    "print(f\"✅ Total annotated images: {len(annotated_image_names)}\")\n",
    "print(f\"📂 Total actual image files: {len(image_files)}\\n\")\n",
    "\n",
    "print(f\"❌ Missing image files (in annotations but not found on disk): {len(missing_images)}\")\n",
    "if missing_images:\n",
    "    print(\"Examples:\", sorted(list(missing_images))[:5])\n",
    "\n",
    "print(f\"📝 Unannotated image files (exist in folder but not in annotations): {len(unannotated_images)}\")\n",
    "if unannotated_images:\n",
    "    print(\"Examples:\", sorted(list(unannotated_images))[:5])\n",
    "\n",
    "# === FILTER ANNOTATIONS ===\n",
    "valid_images = [img for img in coco[\"images\"] if img[\"file_name\"] in image_files]\n",
    "valid_image_ids = set(img[\"id\"] for img in valid_images)\n",
    "valid_annotations = [ann for ann in coco[\"annotations\"] if ann[\"image_id\"] in valid_image_ids]\n",
    "\n",
    "filtered_coco = {\n",
    "    \"images\": valid_images,\n",
    "    \"annotations\": valid_annotations,\n",
    "    \"categories\": coco[\"categories\"]\n",
    "}\n",
    "\n",
    "# === SAVE CLEANED JSON ===\n",
    "with open(filtered_annotation_path, \"w\") as f:\n",
    "    json.dump(filtered_coco, f, indent=4)\n",
    "\n",
    "print(f\"\\n✅ Filtered COCO annotations saved to: {filtered_annotation_path}\")\n",
    "print(f\"➡️ Valid images remaining: {len(valid_images)}\")\n",
    "print(f\"➡️ Valid annotations remaining: {len(valid_annotations)}\")\n"
   ]
  },
  {
   "cell_type": "code",
   "execution_count": 5,
   "metadata": {
    "id": "ZFuuSlSfj43F"
   },
   "outputs": [
    {
     "name": "stdout",
     "output_type": "stream",
     "text": [
      "❌ Invalid bbox removed: id=108 bbox=[1892, 0, 0, 0]\n",
      "❌ Invalid bbox removed: id=111 bbox=[874, 689, 0, 0]\n",
      "❌ Invalid bbox removed: id=3453 bbox=[1022, 185, 0, 0]\n",
      "❌ Invalid bbox removed: id=10683 bbox=[1563, 1080, 0, 0]\n",
      "❌ Invalid bbox removed: id=24501 bbox=[677, 398, 0, 0]\n",
      "❌ Invalid bbox removed: id=24502 bbox=[680, 389, 0, 0]\n",
      "❌ Invalid bbox removed: id=25837 bbox=[559, 797, 0, 0]\n",
      "❌ Invalid bbox removed: id=28448 bbox=[795, 699, 0, 0]\n",
      "❌ Invalid bbox removed: id=28456 bbox=[1760, 290, 0, 0]\n",
      "❌ Invalid bbox removed: id=30016 bbox=[691, 995, 0, 0]\n",
      "❌ Invalid bbox removed: id=30017 bbox=[725, 932, 0, 0]\n",
      "❌ Invalid bbox removed: id=30018 bbox=[696, 927, 0, 0]\n",
      "❌ Invalid bbox removed: id=31110 bbox=[1205, 1080, 0, 0]\n",
      "❌ Invalid bbox removed: id=31111 bbox=[1495, 1080, 0, 0]\n",
      "❌ Invalid bbox removed: id=31113 bbox=[1685, 382, 0, 0]\n",
      "❌ Invalid bbox removed: id=41260 bbox=[1640, 347, 0, 0]\n",
      "❌ Invalid bbox removed: id=48670 bbox=[802, 98, 0, 4]\n",
      "❌ Invalid bbox removed: id=72018 bbox=[901, 599, 0, 0]\n",
      "❌ Invalid bbox removed: id=77124 bbox=[1329, 557, 0, 0]\n",
      "❌ Invalid bbox removed: id=77172 bbox=[1781, 1003, 0, 0]\n",
      "❌ Invalid bbox removed: id=77419 bbox=[1485, 562, 0, 0]\n",
      "❌ Invalid bbox removed: id=79381 bbox=[1438, 503, 0, 0]\n",
      "❌ Invalid bbox removed: id=82214 bbox=[1651, 302, 0, 0]\n",
      "❌ Invalid bbox removed: id=82266 bbox=[1646, 370, 0, 0]\n",
      "❌ Invalid bbox removed: id=84156 bbox=[931, 114, 0, 0]\n",
      "❌ Invalid bbox removed: id=84191 bbox=[585, 0, 0, 0]\n",
      "❌ Invalid bbox removed: id=84257 bbox=[1672, 252, 0, 3]\n",
      "❌ Invalid bbox removed: id=85536 bbox=[965, 2, 0, 0]\n",
      "❌ Invalid bbox removed: id=85767 bbox=[1327, 793, 0, 0]\n",
      "❌ Invalid bbox removed: id=86081 bbox=[703, 350, 0, 0]\n",
      "❌ Invalid bbox removed: id=86490 bbox=[859, 25, 0, 0]\n",
      "❌ Invalid bbox removed: id=89249 bbox=[886, 766, 0, 0]\n",
      "❌ Invalid bbox removed: id=91013 bbox=[653, 485, 0, 0]\n",
      "❌ Invalid bbox removed: id=92458 bbox=[85, 215, 0, 0]\n",
      "❌ Invalid bbox removed: id=95963 bbox=[1263, 520, 0, 4]\n",
      "❌ Invalid bbox removed: id=96833 bbox=[1061, 925, 0, 0]\n",
      "❌ Invalid bbox removed: id=98157 bbox=[1300, 0, 0, 0]\n",
      "❌ Invalid bbox removed: id=100491 bbox=[405, 22, 0, 0]\n",
      "❌ Invalid bbox removed: id=100917 bbox=[862, 647, 0, 0]\n",
      "❌ Invalid bbox removed: id=100918 bbox=[487, 996, 0, 0]\n",
      "❌ Invalid bbox removed: id=104045 bbox=[1920, 1080, 0, 0]\n",
      "❌ Invalid bbox removed: id=104046 bbox=[1102, 662, 0, 0]\n",
      "❌ Invalid bbox removed: id=104050 bbox=[943, 188, 0, 0]\n",
      "❌ Invalid bbox removed: id=104051 bbox=[902, 205, 0, 0]\n",
      "❌ Invalid bbox removed: id=104052 bbox=[810, 106, 0, 0]\n",
      "❌ Invalid bbox removed: id=104073 bbox=[673, 457, 0, 0]\n",
      "❌ Invalid bbox removed: id=109124 bbox=[1666, 441, 0, 0]\n",
      "❌ Invalid bbox removed: id=109920 bbox=[1441, 850, 0, 0]\n",
      "❌ Invalid bbox removed: id=110580 bbox=[1798, 1009, 0, 0]\n",
      "❌ Invalid bbox removed: id=115070 bbox=[1876, 1080, 0, 0]\n",
      "❌ Invalid bbox removed: id=127925 bbox=[0, 1080, 0, 0]\n",
      "❌ Invalid bbox removed: id=127926 bbox=[78, 288, 0, 0]\n",
      "❌ Invalid bbox removed: id=127927 bbox=[128, 280, 0, 0]\n",
      "❌ Invalid bbox removed: id=130066 bbox=[862, 239, 0, 0]\n",
      "\n",
      "✅ Cleaned annotations saved to: ./annotations/auair_coco_cleaned.json\n",
      "➡️ Total valid annotations: 131977\n",
      "🚫 Total invalid annotations removed: 54\n"
     ]
    }
   ],
   "source": [
    "import json\n",
    "\n",
    "# Input and output file paths\n",
    "input_path = \"./annotations/auair_coco_filtered.json\"\n",
    "output_path = \"./annotations/auair_coco_cleaned.json\"\n",
    "\n",
    "# Load COCO annotations\n",
    "with open(input_path, \"r\") as f:\n",
    "    coco = json.load(f)\n",
    "\n",
    "valid_annotations = []\n",
    "invalid_count = 0\n",
    "\n",
    "for ann in coco[\"annotations\"]:\n",
    "    x, y, w, h = ann[\"bbox\"]\n",
    "    if w > 0 and h > 0:\n",
    "        valid_annotations.append(ann)\n",
    "    else:\n",
    "        invalid_count += 1\n",
    "        print(f\"❌ Invalid bbox removed: id={ann['id']} bbox={ann['bbox']}\")\n",
    "\n",
    "# Keep the same image and category sections\n",
    "cleaned_coco = {\n",
    "    \"images\": coco[\"images\"],\n",
    "    \"annotations\": valid_annotations,\n",
    "    \"categories\": coco[\"categories\"]\n",
    "}\n",
    "\n",
    "# Save to new cleaned file\n",
    "with open(output_path, \"w\") as f:\n",
    "    json.dump(cleaned_coco, f, indent=4)\n",
    "\n",
    "print(f\"\\n✅ Cleaned annotations saved to: {output_path}\")\n",
    "print(f\"➡️ Total valid annotations: {len(valid_annotations)}\")\n",
    "print(f\"🚫 Total invalid annotations removed: {invalid_count}\")\n"
   ]
  },
  {
   "cell_type": "code",
   "execution_count": 6,
   "metadata": {
    "id": "DG6v5iJrj6Q1"
   },
   "outputs": [
    {
     "name": "stderr",
     "output_type": "stream",
     "text": [
      "C:\\Users\\Ali\\AppData\\Local\\Temp\\ipykernel_14104\\1469326241.py:38: UserWarning: set_ticklabels() should only be used with a fixed number of ticks, i.e. after set_ticks() or using a FixedLocator.\n",
      "  ax.set_xticklabels(categories_, rotation=45, ha=\"right\")\n"
     ]
    },
    {
     "data": {
      "image/png": "[encoded data removed]",
      "text/plain": [
       "<Figure size 1200x800 with 1 Axes>"
      ]
     },
     "metadata": {},
     "output_type": "display_data"
    }
   ],
   "source": [
    "import json\n",
    "from collections import Counter\n",
    "import matplotlib.pyplot as plt\n",
    "\n",
    "# AU-AIR class mapping (adjust if different)\n",
    "id2label = {\n",
    "    0: \"Human\",\n",
    "    1: \"Car\",\n",
    "    2: \"Truck\",\n",
    "    3: \"Van\",\n",
    "    4: \"Motorbike\",\n",
    "    5: \"Bicycle\",\n",
    "    6: \"Bus\",\n",
    "    7: \"Trailer\"\n",
    "}\n",
    "label2id = {v: k for k, v in id2label.items()}\n",
    "\n",
    "# Load cleaned annotation file\n",
    "with open(\"./annotations/auair_coco_cleaned.json\", \"r\") as f:\n",
    "    coco = json.load(f)\n",
    "\n",
    "# Count class occurrences\n",
    "class_counts = Counter()\n",
    "for ann in coco[\"annotations\"]:\n",
    "    class_counts[ann[\"category_id\"]] += 1\n",
    "\n",
    "# Prepare for plotting\n",
    "categories_ = [id2label[i] for i in class_counts.keys()]\n",
    "values = list(class_counts.values())\n",
    "\n",
    "# Plotting\n",
    "fig, ax = plt.subplots(figsize=(12, 8))\n",
    "bars = ax.bar(categories_, values, color=\"skyblue\")\n",
    "\n",
    "ax.set_xlabel(\"Categories\", fontsize=14)\n",
    "ax.set_ylabel(\"Number of Occurrences\", fontsize=14)\n",
    "ax.set_title(\"Object Frequency in AU-AIR Dataset\", fontsize=16)\n",
    "ax.set_xticklabels(categories_, rotation=45, ha=\"right\")\n",
    "\n",
    "for bar in bars:\n",
    "    height = bar.get_height()\n",
    "    ax.text(bar.get_x() + bar.get_width() / 2.0, height, f\"{height}\", ha=\"center\", va=\"bottom\", fontsize=10)\n",
    "\n",
    "plt.tight_layout()\n",
    "plt.grid(axis=\"y\", linestyle=\"--\", alpha=0.7)\n",
    "plt.show()\n"
   ]
  },
  {
   "cell_type": "code",
   "execution_count": 7,
   "metadata": {
    "id": "lrpKE3Imj7h_"
   },
   "outputs": [
    {
     "name": "stdout",
     "output_type": "stream",
     "text": [
      "✅ train split saved with 26258 images and 105274 annotations.\n",
      "✅ val split saved with 3282 images and 13433 annotations.\n",
      "✅ test split saved with 3283 images and 13270 annotations.\n"
     ]
    }
   ],
   "source": [
    "from sklearn.model_selection import train_test_split\n",
    "import random\n",
    "import json\n",
    "\n",
    "# Load full COCO data\n",
    "with open(\"./annotations/auair_coco_cleaned.json\", \"r\") as f:\n",
    "    coco = json.load(f)\n",
    "\n",
    "# Get all image IDs\n",
    "all_images = coco[\"images\"]\n",
    "train_imgs, testval_imgs = train_test_split(all_images, test_size=0.2, random_state=42)\n",
    "val_imgs, test_imgs = train_test_split(testval_imgs, test_size=0.5, random_state=42)\n",
    "\n",
    "# Utility to get annotations for given image list\n",
    "def get_anns_for_imgs(images, all_anns):\n",
    "    img_ids = set(img[\"id\"] for img in images)\n",
    "    return [ann for ann in all_anns if ann[\"image_id\"] in img_ids]\n",
    "\n",
    "# Create new COCO-style splits\n",
    "def save_split(name, images, anns):\n",
    "    data = {\n",
    "        \"images\": images,\n",
    "        \"annotations\": anns,\n",
    "        \"categories\": coco[\"categories\"]\n",
    "    }\n",
    "    with open(f\"./annotations/auair_coco_{name}.json\", \"w\") as f:\n",
    "        json.dump(data, f, indent=4)\n",
    "    print(f\"✅ {name} split saved with {len(images)} images and {len(anns)} annotations.\")\n",
    "\n",
    "save_split(\"train\", train_imgs, get_anns_for_imgs(train_imgs, coco[\"annotations\"]))\n",
    "save_split(\"val\", val_imgs, get_anns_for_imgs(val_imgs, coco[\"annotations\"]))\n",
    "save_split(\"test\", test_imgs, get_anns_for_imgs(test_imgs, coco[\"annotations\"]))\n"
   ]
  },
  {
   "cell_type": "code",
   "execution_count": 8,
   "metadata": {
    "executionInfo": {
     "elapsed": 66,
     "status": "ok",
     "timestamp": 1744726428680,
     "user": {
      "displayName": "ali yiğit başaran",
      "userId": "07561520228647496516"
     },
     "user_tz": -180
    },
    "id": "Cel_WRYkj8yp"
   },
   "outputs": [],
   "source": [
    "import os\n",
    "import json\n",
    "import numpy as np\n",
    "from PIL import Image\n",
    "from torch.utils.data import Dataset\n",
    "\n",
    "class AUAirCocoDataset(Dataset):\n",
    "    def __init__(self, image_dir, annotation_path, processor, transform=None):\n",
    "        \"\"\"\n",
    "        AU-AIR dataset in COCO format for object detection.\n",
    "\n",
    "        Args:\n",
    "            image_dir (str): Path to the folder containing image files.\n",
    "            annotation_path (str): Path to the COCO-format JSON file.\n",
    "            processor (transformers.Processor): Hugging Face processor (e.g., YolosImageProcessor).\n",
    "            transform (albumentations.Compose, optional): Albumentations transforms for augmentation.\n",
    "        \"\"\"\n",
    "        self.image_dir = image_dir\n",
    "        self.annotation_path = annotation_path\n",
    "        self.processor = processor\n",
    "        self.transform = transform\n",
    "\n",
    "        # Load COCO-style annotation JSON\n",
    "        with open(self.annotation_path, \"r\") as f:\n",
    "            self.coco = json.load(f)\n",
    "\n",
    "        # Map image_id to image info\n",
    "        self.image_id_to_info = {img[\"id\"]: img for img in self.coco[\"images\"]}\n",
    "\n",
    "        # Map image_id to annotations\n",
    "        self.image_id_to_annotations = {}\n",
    "        for ann in self.coco[\"annotations\"]:\n",
    "            self.image_id_to_annotations.setdefault(ann[\"image_id\"], []).append(ann)\n",
    "\n",
    "        # List of image IDs\n",
    "        self.image_ids = list(self.image_id_to_info.keys())\n",
    "\n",
    "    def __len__(self):\n",
    "        return len(self.image_ids)\n",
    "\n",
    "    def __getitem__(self, idx):\n",
    "        # Get image ID and corresponding info\n",
    "        image_id = self.image_ids[idx]\n",
    "        image_info = self.image_id_to_info[image_id]\n",
    "        annotations = self.image_id_to_annotations.get(image_id, [])\n",
    "\n",
    "        # Load image using PIL and convert to numpy array\n",
    "        image_path = os.path.join(self.image_dir, image_info[\"file_name\"])\n",
    "        image = Image.open(image_path).convert(\"RGB\")\n",
    "        image_np = np.array(image)\n",
    "\n",
    "        # # Extract bboxes and category_ids\n",
    "        # bboxes = [ann[\"bbox\"] for ann in annotations]\n",
    "        # category_ids = [ann[\"category_id\"] for ann in annotations]\n",
    "\n",
    "        # # Apply Albumentations transforms if provided\n",
    "        # if self.transform:\n",
    "        # # Check if 'Car' (id=1) is in category_ids to supress class imbalance\n",
    "        #   # if 1 not in category_ids:\n",
    "        #   transformed = self.transform(\n",
    "        #       image=image_np,\n",
    "        #       bboxes=bboxes,\n",
    "        #       category_ids=category_ids\n",
    "        #   )\n",
    "        #   image_np = transformed[\"image\"]\n",
    "        #   bboxes = transformed[\"bboxes\"]\n",
    "        #   category_ids = transformed[\"category_ids\"]\n",
    "\n",
    "        #     # Reconstruct annotations after transformation\n",
    "        #   annotations = [\n",
    "        #         {\n",
    "        #             \"bbox\": list(bbox),\n",
    "        #             \"category_id\": cat_id,\n",
    "        #             \"area\": bbox[2] * bbox[3]  # Calculate area (width * height)\n",
    "        #         }\n",
    "        #         for bbox, cat_id in zip(bboxes, category_ids)\n",
    "        #     ]\n",
    "\n",
    "        # Prepare target dictionary for the processor\n",
    "        target = {\n",
    "            \"image_id\": image_id,\n",
    "            \"annotations\": annotations\n",
    "        }\n",
    "\n",
    "        # Use processor to encode image and annotations\n",
    "        encoding = self.processor(images=image_np, annotations=target, return_tensors=\"pt\")\n",
    "\n",
    "        # Remove batch dimension to return a single example\n",
    "        # encoding = {k: v.squeeze(0) for k, v in encoding.items()}\n",
    "        encoding = {k: v.squeeze(0) if hasattr(v, \"squeeze\") else v for k, v in encoding.items()}\n",
    "\n",
    "        return encoding\n"
   ]
  },
  {
   "cell_type": "code",
   "execution_count": 9,
   "metadata": {
    "executionInfo": {
     "elapsed": 17,
     "status": "ok",
     "timestamp": 1744726483310,
     "user": {
      "displayName": "ali yiğit başaran",
      "userId": "07561520228647496516"
     },
     "user_tz": -180
    },
    "id": "BdtqJUE6j9zG"
   },
   "outputs": [],
   "source": [
    "# import albumentations as A\n",
    "# from albumentations.pytorch import ToTensorV2\n",
    "\n",
    "# # Training transformations with data augmentation\n",
    "# train_transform = A.Compose([\n",
    "#     A.Resize(512, 512),  # Resize to a fixed size (YOLOS prefers fixed size)\n",
    "#     A.HorizontalFlip(p=0.5),\n",
    "#     A.RandomBrightnessContrast(p=0.5),\n",
    "#     A.ShiftScaleRotate(shift_limit=0.02, scale_limit=0.1, rotate_limit=10, p=0.5),\n",
    "#     A.MotionBlur(p=0.2),\n",
    "#     A.HueSaturationValue(p=0.3),\n",
    "#     ToTensorV2(),\n",
    "#     A.Normalize(mean=(0.5, 0.5, 0.5), std=(0.5, 0.5, 0.5)),\n",
    "# ], bbox_params=A.BboxParams(format='coco', label_fields=['category_ids']))\n",
    "\n",
    "# # Validation transformations (no augmentation)\n",
    "# val_transform = A.Compose([\n",
    "#     A.Resize(512, 512),\n",
    "#     ToTensorV2(),\n",
    "#     A.Normalize(mean=(0.5, 0.5, 0.5), std=(0.5, 0.5, 0.5)),\n",
    "# ], bbox_params=A.BboxParams(format='coco', label_fields=['category_ids']))\n"
   ]
  },
  {
   "cell_type": "code",
   "execution_count": 10,
   "metadata": {
    "executionInfo": {
     "elapsed": 17,
     "status": "ok",
     "timestamp": 1744726485477,
     "user": {
      "displayName": "ali yiğit başaran",
      "userId": "07561520228647496516"
     },
     "user_tz": -180
    },
    "id": "4CmDIGEjzG6e"
   },
   "outputs": [],
   "source": [
    "from transformers import TrainingArguments\n",
    "from transformers import Trainer\n",
    "import torch\n",
    "def collate_fn(batch):\n",
    "    pixel_values = [item[\"pixel_values\"] for item in batch]\n",
    "    labels = [item[\"labels\"] for item in batch]\n",
    "    # print(\"labels1: \",labels)\n",
    "    labels = [l[0] if isinstance(l, list) else l for l in labels]\n",
    "    # print(\"labels2: \",labels)\n",
    "    # labels = [item[\"labels\"] for item in batch]\n",
    "    return {\n",
    "        \"pixel_values\": torch.stack(pixel_values),\n",
    "        \"labels\": labels\n",
    "    }\n",
    "# def collate_fn(batch):\n",
    "#     pixel_values = torch.stack([item[\"pixel_values\"] for item in batch])\n",
    "#     labels = [item[\"labels\"] for item in batch]  # Leave this as is: list of dicts\n",
    "#     return {\n",
    "#         \"pixel_values\": pixel_values,\n",
    "#         \"labels\": labels\n",
    "#     }\n"
   ]
  },
  {
   "cell_type": "code",
   "execution_count": 11,
   "metadata": {
    "colab": {
     "base_uri": "https://localhost:8080/"
    },
    "executionInfo": {
     "elapsed": 755,
     "status": "ok",
     "timestamp": 1744727861268,
     "user": {
      "displayName": "ali yiğit başaran",
      "userId": "07561520228647496516"
     },
     "user_tz": -180
    },
    "id": "zlUde7UDj-2x",
    "outputId": "cea4d443-3ce3-4118-c0d1-f8a9566cfafa"
   },
   "outputs": [
    {
     "name": "stderr",
     "output_type": "stream",
     "text": [
      "Some weights of YolosForObjectDetection were not initialized from the model checkpoint at hustvl/yolos-small and are newly initialized because the shapes did not match:\n",
      "- class_labels_classifier.layers.2.bias: found shape torch.Size([92]) in the checkpoint and torch.Size([9]) in the model instantiated\n",
      "- class_labels_classifier.layers.2.weight: found shape torch.Size([92, 384]) in the checkpoint and torch.Size([9, 384]) in the model instantiated\n",
      "You should probably TRAIN this model on a down-stream task to be able to use it for predictions and inference.\n"
     ]
    },
    {
     "name": "stdout",
     "output_type": "stream",
     "text": [
      "YolosImageProcessor {\n",
      "  \"do_convert_annotations\": true,\n",
      "  \"do_normalize\": true,\n",
      "  \"do_pad\": true,\n",
      "  \"do_rescale\": true,\n",
      "  \"do_resize\": true,\n",
      "  \"format\": \"coco_detection\",\n",
      "  \"image_mean\": [\n",
      "    0.485,\n",
      "    0.456,\n",
      "    0.406\n",
      "  ],\n",
      "  \"image_processor_type\": \"YolosImageProcessor\",\n",
      "  \"image_std\": [\n",
      "    0.229,\n",
      "    0.224,\n",
      "    0.225\n",
      "  ],\n",
      "  \"pad_size\": null,\n",
      "  \"resample\": 2,\n",
      "  \"rescale_factor\": 0.00392156862745098,\n",
      "  \"size\": {\n",
      "    \"height\": 512,\n",
      "    \"width\": 512\n",
      "  }\n",
      "}\n",
      "\n"
     ]
    }
   ],
   "source": [
    "from transformers import YolosImageProcessor\n",
    "from transformers import YolosForObjectDetection\n",
    "from transformers import YolosForObjectDetection\n",
    "\n",
    "num_classes = 8\n",
    "\n",
    "model = YolosForObjectDetection.from_pretrained(\n",
    "    \"hustvl/yolos-small\",\n",
    "    num_labels=num_classes,\n",
    "    ignore_mismatched_sizes=True  # Allows resizing of classification head\n",
    ")\n",
    "\n",
    "# Define processor\n",
    "processor = YolosImageProcessor.from_pretrained(\"hustvl/yolos-small\")\n",
    "processor.size = {\"height\": 512, \"width\": 512}  # ✅ override default resize\n",
    "\n",
    "\n",
    "# Define dataset paths\n",
    "image_dir = \"./AU-AIR/images\"\n",
    "train_ann_path = \"./annotations/auair_coco_train.json\"\n",
    "val_ann_path = \"./annotations/auair_coco_val.json\"\n",
    "test_ann_path = \"./annotations/auair_coco_test.json\"\n",
    "\n",
    "# Create datasets\n",
    "train_dataset = AUAirCocoDataset(\n",
    "    image_dir=image_dir,\n",
    "    annotation_path=train_ann_path,\n",
    "    processor=processor,\n",
    "    # transform=train_transform\n",
    ")\n",
    "\n",
    "val_dataset = AUAirCocoDataset(\n",
    "    image_dir=image_dir,\n",
    "    annotation_path=val_ann_path,\n",
    "    processor=processor,\n",
    "    # transform=val_transform\n",
    ")\n",
    "\n",
    "test_dataset = AUAirCocoDataset(\n",
    "    image_dir=image_dir,\n",
    "    annotation_path=test_ann_path,\n",
    "    processor=processor,\n",
    "    # transform=val_transform\n",
    ")\n",
    "print(processor)\n",
    "\n",
    "from torch.utils.data import DataLoader\n",
    "\n",
    "# Create DataLoaders\n",
    "train_loader = DataLoader(train_dataset, batch_size=8, shuffle=True, collate_fn=collate_fn)\n",
    "val_loader = DataLoader(val_dataset, batch_size=8, shuffle=False, collate_fn=collate_fn)\n",
    "test_loader = DataLoader(test_dataset, batch_size=8, shuffle=False, collate_fn=collate_fn)\n"
   ]
  },
  {
   "cell_type": "code",
   "execution_count": 12,
   "metadata": {
    "colab": {
     "base_uri": "https://localhost:8080/"
    },
    "executionInfo": {
     "elapsed": 1899,
     "status": "ok",
     "timestamp": 1744722691187,
     "user": {
      "displayName": "ali yiğit başaran",
      "userId": "07561520228647496516"
     },
     "user_tz": -180
    },
    "id": "cvrmtNOGj_1w",
    "outputId": "59e30eac-3ae6-49d1-b940-a0bb370f9cb8"
   },
   "outputs": [
    {
     "name": "stderr",
     "output_type": "stream",
     "text": [
      "\u001b[34m\u001b[1mwandb\u001b[0m: Using wandb-core as the SDK backend.  Please refer to https://wandb.me/wandb-core for more information.\n",
      "\u001b[34m\u001b[1mwandb\u001b[0m: \u001b[33mWARNING\u001b[0m If you're specifying your api key in code, ensure this code is not shared publicly.\n",
      "\u001b[34m\u001b[1mwandb\u001b[0m: \u001b[33mWARNING\u001b[0m Consider setting the WANDB_API_KEY environment variable, or running `wandb login` from the command line.\n",
      "\u001b[34m\u001b[1mwandb\u001b[0m: Appending key for api.wandb.ai to your netrc file: C:\\Users\\Ali\\_netrc\n",
      "\u001b[34m\u001b[1mwandb\u001b[0m: Currently logged in as: \u001b[33maliyigitbasaran\u001b[0m (\u001b[33maliyigitbasaran-\u001b[0m) to \u001b[32mhttps://api.wandb.ai\u001b[0m. Use \u001b[1m`wandb login --relogin`\u001b[0m to force relogin\n"
     ]
    },
    {
     "data": {
      "text/plain": [
       "True"
      ]
     },
     "execution_count": 12,
     "metadata": {},
     "output_type": "execute_result"
    }
   ],
   "source": [
    "import wandb\n",
    "wandb.login(key=\"1640c7993fb7d40efc5ce820586098b3f8a569f4\")"
   ]
  },
  {
   "cell_type": "code",
   "execution_count": 22,
   "metadata": {
    "executionInfo": {
     "elapsed": 22,
     "status": "ok",
     "timestamp": 1744730946880,
     "user": {
      "displayName": "ali yiğit başaran",
      "userId": "07561520228647496516"
     },
     "user_tz": -180
    },
    "id": "3cg0LoRGA8_V"
   },
   "outputs": [],
   "source": [
    "from tqdm import tqdm\n",
    "import wandb\n",
    "\n",
    "def eval_and_generate_yolos_predictions(model, dataloader, processor, device, with_loss=False, global_step=None):\n",
    "    model.eval()\n",
    "    results = []\n",
    "    total_loss = 0.0\n",
    "    count = 0\n",
    "\n",
    "    with torch.no_grad():\n",
    "        for batch in tqdm(dataloader, desc=\"Generating predictions\"): #data_loader:\n",
    "            pixel_values = batch[\"pixel_values\"].to(device)\n",
    "            image_ids = [l[\"image_id\"].item() for l in batch[\"labels\"]]\n",
    "            target_sizes = [l[\"orig_size\"].to(device) for l in batch[\"labels\"]]\n",
    "\n",
    "            if with_loss:\n",
    "                labels = [{k: v.to(device) for k, v in label.items()} for label in batch[\"labels\"]]\n",
    "                outputs = model(pixel_values=pixel_values, labels=labels)\n",
    "                total_loss += outputs.loss.item()\n",
    "                count += 1\n",
    "            else:\n",
    "                outputs = model(pixel_values=pixel_values)\n",
    "\n",
    "            results_per_image = processor.post_process_object_detection(outputs, target_sizes=target_sizes, threshold=0.5)\n",
    "\n",
    "            for i, prediction in enumerate(results_per_image):\n",
    "                boxes = prediction[\"boxes\"].cpu().numpy()\n",
    "                scores = prediction[\"scores\"].cpu().numpy()\n",
    "                labels = prediction[\"labels\"].cpu().numpy()\n",
    "\n",
    "                for box, score, label in zip(boxes, scores, labels):\n",
    "                    x1, y1, x2, y2 = box\n",
    "                    results.append({\n",
    "                        \"image_id\": image_ids[i],\n",
    "                        \"category_id\": int(label),\n",
    "                        \"bbox\": [float(x1), float(y1), float(x2 - x1), float(y2 - y1)],\n",
    "                        \"score\": float(score)\n",
    "                    })\n",
    "\n",
    "    if with_loss:\n",
    "        avg_val_loss = total_loss / max(count, 1)\n",
    "        wandb.log({\"val/loss\": avg_val_loss}, step=global_step)\n",
    "        return results\n",
    "    else:\n",
    "        return results\n"
   ]
  },
  {
   "cell_type": "code",
   "execution_count": null,
   "metadata": {
    "executionInfo": {
     "elapsed": 3,
     "status": "ok",
     "timestamp": 1744730951102,
     "user": {
      "displayName": "ali yiğit başaran",
      "userId": "07561520228647496516"
     },
     "user_tz": -180
    },
    "id": "VsPHQf9yA_gP"
   },
   "outputs": [],
   "source": [
    "import os\n",
    "import json\n",
    "import wandb\n",
    "from pycocotools.coco import COCO\n",
    "from pycocotools.cocoeval import COCOeval\n",
    "\n",
    "def evaluate_map_coco(predictions, gt_annotation_path, step_label=\"val\"):\n",
    "    os.makedirs(\"predictions\", exist_ok=True)\n",
    "    pred_path = f\"./predictions/{step_label}_predictions.json\"\n",
    "\n",
    "    with open(pred_path, \"w\") as f:\n",
    "        json.dump(predictions, f)\n",
    "\n",
    "    coco_gt = COCO(gt_annotation_path)\n",
    "    coco_dt = coco_gt.loadRes(pred_path)\n",
    "    coco_eval = COCOeval(coco_gt, coco_dt, iouType='bbox')\n",
    "    coco_eval.evaluate()\n",
    "    coco_eval.accumulate()\n",
    "    coco_eval.summarize()\n",
    "\n",
    "    # === Class-wise AP logging ===\n",
    "    class_wise_ap = []\n",
    "    precisions = coco_eval.eval['precision']  # [T, R, K, A, M]\n",
    "    cat_ids = coco_gt.getCatIds()\n",
    "    cat_id_to_name = {cat['id']: cat['name'] for cat in coco_gt.loadCats(cat_ids)}\n",
    "\n",
    "    for idx, cat_id in enumerate(cat_ids):\n",
    "        precision = precisions[0, :, idx, 0, 0]  # IoU=0.5, area=all, maxDets=100\n",
    "        precision = precision[precision > -1]\n",
    "        ap = float(precision.mean()) if precision.size > 0 else 0.0\n",
    "        ap_percent = ap * 100  # 🔁 Convert to percentage\n",
    "        class_name = cat_id_to_name.get(cat_id, f\"cls_{cat_id}\")\n",
    "        class_wise_ap.append([class_name, ap_percent])\n",
    "        wandb.log({f\"{step_label}/AP/{class_name}\": ap_percent})\n",
    "\n",
    "    # === Log overall mAP values in percentage ===\n",
    "    map_50_95 = coco_eval.stats[0] * 100\n",
    "    map_50 = coco_eval.stats[1] * 100\n",
    "    map_75 = coco_eval.stats[2] * 100\n",
    "\n",
    "    wandb.log({\n",
    "        f\"{step_label}/mAP_50_95\": map_50_95,\n",
    "        f\"{step_label}/mAP_50\": map_50,\n",
    "        f\"{step_label}/mAP_75\": map_75\n",
    "    })\n",
    "\n",
    "    # 🔁 Add mAPas a new row at the bottom\n",
    "    class_wise_ap.append([\"mAP\", map_50])\n",
    "\n",
    "    # ✅ Log AP table to W&B\n",
    "    wandb.log({\n",
    "        f\"{step_label}/AP_table\": wandb.Table(\n",
    "            data=class_wise_ap,\n",
    "            columns=[\"Class\", \"AP\"]\n",
    "        )\n",
    "    })\n"
   ]
  },
  {
   "cell_type": "code",
   "execution_count": null,
   "metadata": {
    "executionInfo": {
     "elapsed": 61,
     "status": "ok",
     "timestamp": 1744732596983,
     "user": {
      "displayName": "ali yiğit başaran",
      "userId": "07561520228647496516"
     },
     "user_tz": -180
    },
    "id": "DqbY4ZkMDaPa"
   },
   "outputs": [],
   "source": [
    "import torch\n",
    "from tqdm import tqdm\n",
    "from collections import defaultdict\n",
    "import wandb\n",
    "\n",
    "def custom_train(model, train_dataloader, val_dataloader, test_dataloader, processor, optimizer, lr_scheduler, device,\n",
    "                 num_epochs=10, log_interval=100,\n",
    "                 train_ann_path=\"\", val_ann_path=\"\", test_ann_path=\"\"):\n",
    "\n",
    "    model.to(device)\n",
    "    global_step = 0\n",
    "    wandb.watch(model, log=\"all\")\n",
    "\n",
    "    ema_loss = None  # EMA start\n",
    "    alpha = 0.01     # EMA multiplier\n",
    "\n",
    "    for epoch in range(num_epochs):\n",
    "        model.train()\n",
    "        running_loss = 0.0\n",
    "        print(f\"Epoch {epoch + 1}/{num_epochs}\")\n",
    "\n",
    "        for step, batch in enumerate(tqdm(train_dataloader)): # tqdm\n",
    "            pixel_values = batch[\"pixel_values\"].to(device)\n",
    "            # print(\"pixel_values: \", pixel_values)\n",
    "            labels = [{k: v.to(device) for k, v in t.items()} for t in batch[\"labels\"]]\n",
    "            # labels = [{k: v.to(device) for k, v in label.items()} for label in batch['labels']]\n",
    "            # print(\"labels: \", labels)\n",
    "            outputs = model(pixel_values=pixel_values, labels=labels)\n",
    "            loss = outputs.loss\n",
    "\n",
    "            loss.backward()\n",
    "            optimizer.step()\n",
    "            lr_scheduler.step()\n",
    "            optimizer.zero_grad()\n",
    "\n",
    "            running_loss += loss.item()\n",
    "            global_step += 1\n",
    "\n",
    "            # EMA Loss Update\n",
    "            if ema_loss is None:\n",
    "                ema_loss = loss.item()\n",
    "            else:\n",
    "                ema_loss = alpha * loss.item() + (1 - alpha) * ema_loss\n",
    "\n",
    "            # === log loss & mAP every log_interval ===\n",
    "            if global_step % log_interval == 0:\n",
    "                avg_loss = running_loss / log_interval\n",
    "                wandb.log({\n",
    "                    \"avg_per_log_interval_train/loss\": avg_loss,\n",
    "                    \"ema_train/loss\": ema_loss\n",
    "                }, step=global_step)\n",
    "                print(f\"Step {global_step}: avg_loss = {avg_loss:.4f}, ema_loss = {ema_loss:.4f}\")\n",
    "                running_loss = 0.0\n",
    "\n",
    "                # # === Train mAP via pycocotools (full dataloader) ===\n",
    "                # val_at_train_preds = eval_and_generate_yolos_predictions(model, val_dataloader, processor, device, with_loss=True)\n",
    "                # if(len(val_at_train_preds) != 0):\n",
    "                #     print(\"Prediction Results: \")\n",
    "                #     evaluate_map_coco(val_at_train_preds, val_ann_path, step_label=\"on_train\")\n",
    "                # else:\n",
    "                #     print(\"No Prediction generated!!\")\n",
    "\n",
    "        # === VALIDATION ===\n",
    "        model.eval()\n",
    "        val_preds = eval_and_generate_yolos_predictions(model, val_dataloader, processor, device, with_loss=True)\n",
    "        evaluate_map_coco(val_preds, val_ann_path, step_label=\"val\")\n",
    "\n",
    "    # === FINAL TEST EVALUATION ===\n",
    "    print(\"\\n🧪 Running final evaluation on test set...\")\n",
    "    test_preds = eval_and_generate_yolos_predictions(model, test_dataloader, processor, device)\n",
    "    evaluate_map_coco(test_preds, test_ann_path, step_label=\"test\")\n"
   ]
  },
  {
   "cell_type": "code",
   "execution_count": null,
   "metadata": {
    "colab": {
     "base_uri": "https://localhost:8080/",
     "height": 1000
    },
    "executionInfo": {
     "elapsed": 7902,
     "status": "error",
     "timestamp": 1744733043611,
     "user": {
      "displayName": "ali yiğit başaran",
      "userId": "07561520228647496516"
     },
     "user_tz": -180
    },
    "id": "Is6ao7MRyBp7",
    "outputId": "f8e32d01-638f-4c71-8631-7e43edbdd7e1"
   },
   "outputs": [
    {
     "name": "stderr",
     "output_type": "stream",
     "text": [
      "Some weights of YolosForObjectDetection were not initialized from the model checkpoint at hustvl/yolos-small and are newly initialized because the shapes did not match:\n",
      "- class_labels_classifier.layers.2.bias: found shape torch.Size([92]) in the checkpoint and torch.Size([9]) in the model instantiated\n",
      "- class_labels_classifier.layers.2.weight: found shape torch.Size([92, 384]) in the checkpoint and torch.Size([9, 384]) in the model instantiated\n",
      "You should probably TRAIN this model on a down-stream task to be able to use it for predictions and inference.\n"
     ]
    },
    {
     "data": {
      "text/html": [],
      "text/plain": [
       "<IPython.core.display.HTML object>"
      ]
     },
     "metadata": {},
     "output_type": "display_data"
    },
    {
     "data": {
      "text/html": [
       " View run <strong style=\"color:#cdcd00\">yolos-small-auair-finetune</strong> at: <a href='https://wandb.ai/aliyigitbasaran-/DI725_Assg2_YOLOS_Finetune/runs/sbmabppq' target=\"_blank\">https://wandb.ai/aliyigitbasaran-/DI725_Assg2_YOLOS_Finetune/runs/sbmabppq</a><br> View project at: <a href='https://wandb.ai/aliyigitbasaran-/DI725_Assg2_YOLOS_Finetune' target=\"_blank\">https://wandb.ai/aliyigitbasaran-/DI725_Assg2_YOLOS_Finetune</a><br>Synced 5 W&B file(s), 0 media file(s), 0 artifact file(s) and 0 other file(s)"
      ],
      "text/plain": [
       "<IPython.core.display.HTML object>"
      ]
     },
     "metadata": {},
     "output_type": "display_data"
    },
    {
     "data": {
      "text/html": [
       "Find logs at: <code>.\\wandb\\run-20250416_113230-sbmabppq\\logs</code>"
      ],
      "text/plain": [
       "<IPython.core.display.HTML object>"
      ]
     },
     "metadata": {},
     "output_type": "display_data"
    },
    {
     "data": {
      "text/html": [
       "Tracking run with wandb version 0.19.9"
      ],
      "text/plain": [
       "<IPython.core.display.HTML object>"
      ]
     },
     "metadata": {},
     "output_type": "display_data"
    },
    {
     "data": {
      "text/html": [
       "Run data is saved locally in <code>c:\\Users\\Ali\\Desktop\\DI725_Asg2_repo2\\DI725_Assignment2\\wandb\\run-20250416_113331-dukb8bxb</code>"
      ],
      "text/plain": [
       "<IPython.core.display.HTML object>"
      ]
     },
     "metadata": {},
     "output_type": "display_data"
    },
    {
     "data": {
      "text/html": [
       "Syncing run <strong><a href='https://wandb.ai/aliyigitbasaran-/DI725_Assg2_YOLOS_Finetune/runs/dukb8bxb' target=\"_blank\">yolos-small-auair-finetune</a></strong> to <a href='https://wandb.ai/aliyigitbasaran-/DI725_Assg2_YOLOS_Finetune' target=\"_blank\">Weights & Biases</a> (<a href='https://wandb.me/developer-guide' target=\"_blank\">docs</a>)<br>"
      ],
      "text/plain": [
       "<IPython.core.display.HTML object>"
      ]
     },
     "metadata": {},
     "output_type": "display_data"
    },
    {
     "data": {
      "text/html": [
       " View project at <a href='https://wandb.ai/aliyigitbasaran-/DI725_Assg2_YOLOS_Finetune' target=\"_blank\">https://wandb.ai/aliyigitbasaran-/DI725_Assg2_YOLOS_Finetune</a>"
      ],
      "text/plain": [
       "<IPython.core.display.HTML object>"
      ]
     },
     "metadata": {},
     "output_type": "display_data"
    },
    {
     "data": {
      "text/html": [
       " View run at <a href='https://wandb.ai/aliyigitbasaran-/DI725_Assg2_YOLOS_Finetune/runs/dukb8bxb' target=\"_blank\">https://wandb.ai/aliyigitbasaran-/DI725_Assg2_YOLOS_Finetune/runs/dukb8bxb</a>"
      ],
      "text/plain": [
       "<IPython.core.display.HTML object>"
      ]
     },
     "metadata": {},
     "output_type": "display_data"
    },
    {
     "name": "stdout",
     "output_type": "stream",
     "text": [
      "Epoch 1/20\n"
     ]
    },
    {
     "name": "stderr",
     "output_type": "stream",
     "text": [
      "  2%|▏         | 57/3283 [00:42<40:08,  1.34it/s]"
     ]
    }
   ],
   "source": [
    "from transformers import get_scheduler\n",
    "from tqdm import tqdm\n",
    "import wandb\n",
    "num_classes = 8\n",
    "categories = train_dataset.coco[\"categories\"]\n",
    "id2label = {cat[\"id\"]: cat[\"name\"] for cat in categories}\n",
    "label2id = {cat[\"name\"]: cat[\"id\"] for cat in categories}\n",
    "model = YolosForObjectDetection.from_pretrained(\n",
    "    \"hustvl/yolos-small\",\n",
    "    num_labels=num_classes,\n",
    "    id2label=id2label,\n",
    "    label2id=label2id,\n",
    "    ignore_mismatched_sizes=True  # Allows resizing of classification head\n",
    ")\n",
    "wandb.init(project=\"DI725_Assg2_YOLOS_Finetune\", name=\"yolos-small-auair-finetune\", reinit=True)\n",
    "device = torch.device(\"cuda\" if torch.cuda.is_available() else \"cpu\")\n",
    "\n",
    "optimizer = torch.optim.AdamW(model.parameters(), lr=1e-4, weight_decay=0.01)\n",
    "\n",
    "lr_scheduler = get_scheduler(\n",
    "    name=\"constant_with_warmup\", #linear\n",
    "    optimizer=optimizer,\n",
    "    num_warmup_steps=500,\n",
    "    num_training_steps=len(train_loader) * 10\n",
    ")\n",
    "\n",
    "\n",
    "custom_train(\n",
    "    model=model,\n",
    "    train_dataloader=train_loader,\n",
    "    val_dataloader=val_loader,\n",
    "    test_dataloader=test_loader,\n",
    "    processor=processor,\n",
    "    optimizer=optimizer,\n",
    "    lr_scheduler=lr_scheduler,\n",
    "    device=device,\n",
    "    num_epochs=20,\n",
    "    log_interval=200, # 100\n",
    "    train_ann_path=\"./annotations/auair_coco_train.json\",\n",
    "    val_ann_path=\"./annotations/auair_coco_val.json\",\n",
    "    test_ann_path=\"./annotations/auair_coco_test.json\"\n",
    ")"
   ]
  },
  {
   "cell_type": "code",
   "execution_count": null,
   "metadata": {
    "id": "7ZfJ2h-myBnM"
   },
   "outputs": [],
   "source": [
    "from transformers import TrainerCallback\n",
    "import wandb\n",
    "import numpy as np\n",
    "from collections import defaultdict\n",
    "\n",
    "class WandBLogEveryNSteps(TrainerCallback):\n",
    "    def __init__(self, log_every_n_steps=100):\n",
    "        self.log_every_n_steps = log_every_n_steps\n",
    "        self.losses = []\n",
    "\n",
    "    def on_step_end(self, args, state, control, **kwargs):\n",
    "        logs = kwargs.get(\"logs\", {})\n",
    "        if \"loss\" in logs:\n",
    "            self.losses.append(logs[\"loss\"])\n",
    "        if state.global_step % self.log_every_n_steps == 0 and len(self.losses) >= self.log_every_n_steps:\n",
    "            avg_loss = sum(self.losses[-self.log_every_n_steps:]) / self.log_every_n_steps\n",
    "            wandb.log({\"rolling_train_loss\": avg_loss}, step=state.global_step)\n",
    "\n",
    "\n",
    "# AU-AIR class labels\n",
    "id2label = {\n",
    "    0: \"Human\",\n",
    "    1: \"Car\",\n",
    "    2: \"Truck\",\n",
    "    3: \"Van\",\n",
    "    4: \"Motorbike\",\n",
    "    5: \"Bicycle\",\n",
    "    6: \"Bus\",\n",
    "    7: \"Trailer\"\n",
    "}\n",
    "\n",
    "def compute_metrics(p):\n",
    "    pred_logits = p.predictions[0]\n",
    "    ap_dict = defaultdict(float)\n",
    "    total = 0\n",
    "\n",
    "    for preds in pred_logits:\n",
    "        class_ids = np.argmax(preds, axis=-1)\n",
    "        for class_id in class_ids:\n",
    "            ap_dict[int(class_id)] += 1\n",
    "            total += 1\n",
    "\n",
    "    metrics = {}\n",
    "    table_data = []\n",
    "    for class_id, count in ap_dict.items():\n",
    "        class_name = id2label.get(class_id, f\"cls_{class_id}\")\n",
    "        ap = count / total\n",
    "        metrics[f\"AP/{class_name}\"] = ap\n",
    "        table_data.append([class_name, ap])\n",
    "\n",
    "    metrics[\"mAP\"] = np.mean(list(ap_dict.values())) / total if total > 0 else 0.0\n",
    "\n",
    "    # ✅ Log WandB table manually (class, AP)\n",
    "    wandb.log({\n",
    "        \"AP_table\": wandb.Table(data=table_data, columns=[\"Class\", \"AP\"])\n",
    "    })\n",
    "\n",
    "    return metrics\n",
    "\n",
    "\n"
   ]
  },
  {
   "cell_type": "code",
   "execution_count": 62,
   "metadata": {
    "colab": {
     "base_uri": "https://localhost:8080/"
    },
    "executionInfo": {
     "elapsed": 21,
     "status": "ok",
     "timestamp": 1744726395048,
     "user": {
      "displayName": "ali yiğit başaran",
      "userId": "07561520228647496516"
     },
     "user_tz": -180
    },
    "id": "0Jfxj3vdyAiF",
    "outputId": "3b2ff832-61d8-4a65-b925-a11de9428c3f"
   },
   "outputs": [
    {
     "ename": "NameError",
     "evalue": "name 'compute_metrics' is not defined",
     "output_type": "error",
     "traceback": [
      "\u001b[1;31m---------------------------------------------------------------------------\u001b[0m",
      "\u001b[1;31mNameError\u001b[0m                                 Traceback (most recent call last)",
      "Cell \u001b[1;32mIn[62], line 28\u001b[0m\n\u001b[0;32m      1\u001b[0m training_args \u001b[38;5;241m=\u001b[39m TrainingArguments(\n\u001b[0;32m      2\u001b[0m     output_dir\u001b[38;5;241m=\u001b[39m\u001b[38;5;124m\"\u001b[39m\u001b[38;5;124m./yolos-finetuned\u001b[39m\u001b[38;5;124m\"\u001b[39m,\n\u001b[0;32m      3\u001b[0m     per_device_train_batch_size\u001b[38;5;241m=\u001b[39m\u001b[38;5;241m6\u001b[39m,\n\u001b[1;32m   (...)\u001b[0m\n\u001b[0;32m     18\u001b[0m     disable_tqdm\u001b[38;5;241m=\u001b[39m\u001b[38;5;28;01mFalse\u001b[39;00m                       \u001b[38;5;66;03m# Keep tqdm progress bar active\u001b[39;00m\n\u001b[0;32m     19\u001b[0m )\n\u001b[0;32m     22\u001b[0m trainer \u001b[38;5;241m=\u001b[39m Trainer(\n\u001b[0;32m     23\u001b[0m     model\u001b[38;5;241m=\u001b[39mmodel,  \u001b[38;5;66;03m# YOLOS-small model loaded earlier\u001b[39;00m\n\u001b[0;32m     24\u001b[0m     args\u001b[38;5;241m=\u001b[39mtraining_args,\n\u001b[0;32m     25\u001b[0m     train_dataset\u001b[38;5;241m=\u001b[39mtrain_dataset,\n\u001b[0;32m     26\u001b[0m     eval_dataset\u001b[38;5;241m=\u001b[39mval_dataset,\n\u001b[0;32m     27\u001b[0m     tokenizer\u001b[38;5;241m=\u001b[39mprocessor,  \u001b[38;5;66;03m# Required by Trainer API\u001b[39;00m\n\u001b[1;32m---> 28\u001b[0m     compute_metrics\u001b[38;5;241m=\u001b[39m\u001b[43mcompute_metrics\u001b[49m,\n\u001b[0;32m     29\u001b[0m     callbacks\u001b[38;5;241m=\u001b[39m[WandBLogEveryNSteps(log_every_n_steps\u001b[38;5;241m=\u001b[39m\u001b[38;5;241m100\u001b[39m)],\n\u001b[0;32m     30\u001b[0m     data_collator\u001b[38;5;241m=\u001b[39mcollate_fn\n\u001b[0;32m     31\u001b[0m )\n",
      "\u001b[1;31mNameError\u001b[0m: name 'compute_metrics' is not defined"
     ]
    }
   ],
   "source": [
    "\n",
    "\n",
    "training_args = TrainingArguments(\n",
    "    output_dir=\"./yolos-finetuned\",\n",
    "    per_device_train_batch_size=6,\n",
    "    per_device_eval_batch_size=6,\n",
    "    num_train_epochs=10,\n",
    "    eval_strategy=\"epoch\",             # Evaluate at the end of each epoch\n",
    "    save_strategy=\"epoch\",                   # Save model at the end of each epoch\n",
    "    logging_steps=50,                        # Just console logging\n",
    "    learning_rate=5e-5,\n",
    "    weight_decay=0.01,\n",
    "    warmup_steps=500,\n",
    "    logging_dir=\"./logs\",\n",
    "    report_to=\"wandb\",                       # Enable wandb logging\n",
    "    run_name=\"yolos-small-auair-finetune\",   # WandB run name\n",
    "    save_total_limit=2,                      # Only keep last 2 checkpoints\n",
    "    load_best_model_at_end=True,             # Based on eval loss\n",
    "    remove_unused_columns=False,             # Required for object detection inputs\n",
    "    disable_tqdm=False                       # Keep tqdm progress bar active\n",
    ")\n",
    "\n",
    "\n",
    "trainer = Trainer(\n",
    "    model=model,  # YOLOS-small model loaded earlier\n",
    "    args=training_args,\n",
    "    train_dataset=train_dataset,\n",
    "    eval_dataset=val_dataset,\n",
    "    tokenizer=processor,  # Required by Trainer API\n",
    "    compute_metrics=compute_metrics,\n",
    "    callbacks=[WandBLogEveryNSteps(log_every_n_steps=100)],\n",
    "    data_collator=collate_fn\n",
    ")\n"
   ]
  },
  {
   "cell_type": "code",
   "execution_count": null,
   "metadata": {},
   "outputs": [],
   "source": [
    "# import torch\n",
    "# from tqdm import tqdm\n",
    "# from collections import defaultdict\n",
    "# import wandb\n",
    "\n",
    "# def custom_train(model, train_dataloader, val_dataloader, test_dataloader, processor, optimizer, lr_scheduler, device, num_epochs=10, log_interval=100):\n",
    "#     model.to(device)\n",
    "#     global_step = 0\n",
    "#     wandb.watch(model, log=\"all\")\n",
    "\n",
    "#     # Initialize running class prediction stats for train AP table\n",
    "#     train_ap_dict = defaultdict(int)\n",
    "#     train_total = 0\n",
    "\n",
    "#     for epoch in range(num_epochs):\n",
    "#         model.train()\n",
    "#         running_loss = 0.0\n",
    "#         print(f\"Epoch {epoch + 1}/{num_epochs}\")\n",
    "\n",
    "#         for step, batch in enumerate(tqdm(train_dataloader)):\n",
    "#             pixel_values = batch[\"pixel_values\"].to(device)\n",
    "#             labels = [{k: v.to(device) for k, v in t.items()} for t in batch[\"labels\"]]\n",
    "\n",
    "#             outputs = model(pixel_values=pixel_values, labels=labels)\n",
    "#             loss = outputs.loss\n",
    "\n",
    "#             loss.backward()\n",
    "#             optimizer.step()\n",
    "#             lr_scheduler.step()\n",
    "#             optimizer.zero_grad()\n",
    "\n",
    "#             running_loss += loss.item()\n",
    "#             global_step += 1\n",
    "\n",
    "#             # Update class count statistics based on predicted logits\n",
    "#             with torch.no_grad():\n",
    "#                 class_ids = outputs.logits.argmax(dim=-1)\n",
    "#                 for pred in class_ids:\n",
    "#                     for cid in pred.cpu().numpy():\n",
    "#                         train_ap_dict[int(cid)] += 1\n",
    "#                         train_total += 1\n",
    "\n",
    "#             # Log training loss and AP table every N steps\n",
    "#             if global_step % log_interval == 0:\n",
    "#                 avg_loss = running_loss / log_interval\n",
    "#                 wandb.log({\"train/loss\": avg_loss}, step=global_step)\n",
    "#                 print(f\"Step {global_step}: loss = {avg_loss:.4f}\")\n",
    "#                 running_loss = 0.0\n",
    "\n",
    "#                 # Create and log train AP table\n",
    "#                 train_ap_table = []\n",
    "#                 for cid, count in train_ap_dict.items():\n",
    "#                     class_name = id2label.get(cid, f\"cls_{cid}\")\n",
    "#                     ap = count / train_total if train_total > 0 else 0\n",
    "#                     train_ap_table.append([class_name, ap])\n",
    "#                     wandb.log({f\"Train_AP/{class_name}\": ap}, step=global_step)\n",
    "\n",
    "#                 wandb.log({\n",
    "#                     \"train/AP_table\": wandb.Table(data=train_ap_table, columns=[\"Class\", \"AP\"])\n",
    "#                 }, step=global_step)\n",
    "\n",
    "#         # === VALIDATION ===\n",
    "#         model.eval()\n",
    "#         all_preds = []\n",
    "#         with torch.no_grad():\n",
    "#             for batch in val_dataloader:\n",
    "#                 pixel_values = batch[\"pixel_values\"].to(device)\n",
    "#                 labels = [{k: v.to(device) for k, v in t.items()} for t in batch[\"labels\"]]\n",
    "#                 outputs = model(pixel_values=pixel_values, labels=labels)\n",
    "#                 all_preds.append(outputs.logits)\n",
    "\n",
    "#         predictions = torch.cat(all_preds, dim=0).cpu().numpy()\n",
    "#         ap_table = []\n",
    "#         ap_dict = defaultdict(int)\n",
    "#         total = 0\n",
    "\n",
    "#         for preds in predictions:\n",
    "#             class_ids = preds.argmax(axis=-1)\n",
    "#             for cid in class_ids:\n",
    "#                 ap_dict[int(cid)] += 1\n",
    "#                 total += 1\n",
    "\n",
    "#         for cid, count in ap_dict.items():\n",
    "#             class_name = id2label.get(cid, f\"cls_{cid}\")\n",
    "#             ap = count / total\n",
    "#             ap_table.append([class_name, ap])\n",
    "#             wandb.log({f\"AP/{class_name}\": ap}, step=global_step)\n",
    "\n",
    "#         mAP = sum([row[1] for row in ap_table]) / len(ap_table) if ap_table else 0.0\n",
    "#         wandb.log({\"val/mAP\": mAP, \"val/AP_table\": wandb.Table(data=ap_table, columns=[\"Class\", \"AP\"])},\n",
    "#                   step=global_step)\n",
    "#         print(f\"Epoch {epoch + 1} validation mAP: {mAP:.4f}\")\n",
    "\n",
    "#     # === FINAL TEST EVALUATION ===\n",
    "#     print(\"\\n🧪 Running final evaluation on test set...\")\n",
    "#     model.eval()\n",
    "#     test_preds = []\n",
    "#     with torch.no_grad():\n",
    "#         for batch in test_dataloader:\n",
    "#             pixel_values = batch[\"pixel_values\"].to(device)\n",
    "#             labels = [{k: v.to(device) for k, v in t.items()} for t in batch[\"labels\"]]\n",
    "#             outputs = model(pixel_values=pixel_values, labels=labels)\n",
    "#             test_preds.append(outputs.logits)\n",
    "\n",
    "#     test_predictions = torch.cat(test_preds, dim=0).cpu().numpy()\n",
    "#     test_ap_table = []\n",
    "#     test_ap_dict = defaultdict(int)\n",
    "#     test_total = 0\n",
    "\n",
    "#     for preds in test_predictions:\n",
    "#         class_ids = preds.argmax(axis=-1)\n",
    "#         for cid in class_ids:\n",
    "#             test_ap_dict[int(cid)] += 1\n",
    "#             test_total += 1\n",
    "\n",
    "#     for cid, count in test_ap_dict.items():\n",
    "#         class_name = id2label.get(cid, f\"cls_{cid}\")\n",
    "#         ap = count / test_total\n",
    "#         test_ap_table.append([class_name, ap])\n",
    "#         wandb.log({f\"Test_AP/{class_name}\": ap}, step=global_step)\n",
    "\n",
    "#     test_mAP = sum([row[1] for row in test_ap_table]) / len(test_ap_table) if test_ap_table else 0.0\n",
    "#     wandb.log({\"test/mAP\": test_mAP, \"test/AP_table\": wandb.Table(data=test_ap_table, columns=[\"Class\", \"AP\"])},\n",
    "#               step=global_step)\n",
    "#     print(f\"✅ Final test mAP: {test_mAP:.4f}\")\n"
   ]
  },
  {
   "cell_type": "code",
   "execution_count": 110,
   "metadata": {
    "colab": {
     "base_uri": "https://localhost:8080/",
     "height": 345
    },
    "executionInfo": {
     "elapsed": 208525,
     "status": "error",
     "timestamp": 1744725434581,
     "user": {
      "displayName": "ali yiğit başaran",
      "userId": "07561520228647496516"
     },
     "user_tz": -180
    },
    "id": "tRK0i6S6j_xa",
    "outputId": "d31c8f94-6452-49e8-8492-6c411a7c731d"
   },
   "outputs": [
    {
     "data": {
      "text/html": [
       "\n",
       "    <div>\n",
       "      \n",
       "      <progress value='154' max='35860' style='width:300px; height:20px; vertical-align: middle;'></progress>\n",
       "      [  154/35860 03:25 < 13:25:50, 0.74 it/s, Epoch 0.04/10]\n",
       "    </div>\n",
       "    <table border=\"1\" class=\"dataframe\">\n",
       "  <thead>\n",
       " <tr style=\"text-align: left;\">\n",
       "      <th>Epoch</th>\n",
       "      <th>Training Loss</th>\n",
       "      <th>Validation Loss</th>\n",
       "    </tr>\n",
       "  </thead>\n",
       "  <tbody>\n",
       "  </tbody>\n",
       "</table><p>"
      ],
      "text/plain": [
       "<IPython.core.display.HTML object>"
      ]
     },
     "metadata": {},
     "output_type": "display_data"
    },
    {
     "ename": "KeyboardInterrupt",
     "evalue": "",
     "output_type": "error",
     "traceback": [
      "\u001b[0;31m---------------------------------------------------------------------------\u001b[0m",
      "\u001b[0;31mKeyboardInterrupt\u001b[0m                         Traceback (most recent call last)",
      "\u001b[0;32m<ipython-input-110-3435b262f1ae>\u001b[0m in \u001b[0;36m<cell line: 0>\u001b[0;34m()\u001b[0m\n\u001b[0;32m----> 1\u001b[0;31m \u001b[0mtrainer\u001b[0m\u001b[0;34m.\u001b[0m\u001b[0mtrain\u001b[0m\u001b[0;34m(\u001b[0m\u001b[0;34m)\u001b[0m\u001b[0;34m\u001b[0m\u001b[0;34m\u001b[0m\u001b[0m\n\u001b[0m",
      "\u001b[0;32m/usr/local/lib/python3.11/dist-packages/transformers/trainer.py\u001b[0m in \u001b[0;36mtrain\u001b[0;34m(self, resume_from_checkpoint, trial, ignore_keys_for_eval, **kwargs)\u001b[0m\n\u001b[1;32m   2243\u001b[0m                 \u001b[0mhf_hub_utils\u001b[0m\u001b[0;34m.\u001b[0m\u001b[0menable_progress_bars\u001b[0m\u001b[0;34m(\u001b[0m\u001b[0;34m)\u001b[0m\u001b[0;34m\u001b[0m\u001b[0;34m\u001b[0m\u001b[0m\n\u001b[1;32m   2244\u001b[0m         \u001b[0;32melse\u001b[0m\u001b[0;34m:\u001b[0m\u001b[0;34m\u001b[0m\u001b[0;34m\u001b[0m\u001b[0m\n\u001b[0;32m-> 2245\u001b[0;31m             return inner_training_loop(\n\u001b[0m\u001b[1;32m   2246\u001b[0m                 \u001b[0margs\u001b[0m\u001b[0;34m=\u001b[0m\u001b[0margs\u001b[0m\u001b[0;34m,\u001b[0m\u001b[0;34m\u001b[0m\u001b[0;34m\u001b[0m\u001b[0m\n\u001b[1;32m   2247\u001b[0m                 \u001b[0mresume_from_checkpoint\u001b[0m\u001b[0;34m=\u001b[0m\u001b[0mresume_from_checkpoint\u001b[0m\u001b[0;34m,\u001b[0m\u001b[0;34m\u001b[0m\u001b[0;34m\u001b[0m\u001b[0m\n",
      "\u001b[0;32m/usr/local/lib/python3.11/dist-packages/transformers/trainer.py\u001b[0m in \u001b[0;36m_inner_training_loop\u001b[0;34m(self, batch_size, args, resume_from_checkpoint, trial, ignore_keys_for_eval)\u001b[0m\n\u001b[1;32m   2512\u001b[0m                 \u001b[0mupdate_step\u001b[0m \u001b[0;34m+=\u001b[0m \u001b[0;36m1\u001b[0m\u001b[0;34m\u001b[0m\u001b[0;34m\u001b[0m\u001b[0m\n\u001b[1;32m   2513\u001b[0m                 \u001b[0mnum_batches\u001b[0m \u001b[0;34m=\u001b[0m \u001b[0margs\u001b[0m\u001b[0;34m.\u001b[0m\u001b[0mgradient_accumulation_steps\u001b[0m \u001b[0;32mif\u001b[0m \u001b[0mupdate_step\u001b[0m \u001b[0;34m!=\u001b[0m \u001b[0;34m(\u001b[0m\u001b[0mtotal_updates\u001b[0m \u001b[0;34m-\u001b[0m \u001b[0;36m1\u001b[0m\u001b[0;34m)\u001b[0m \u001b[0;32melse\u001b[0m \u001b[0mremainder\u001b[0m\u001b[0;34m\u001b[0m\u001b[0;34m\u001b[0m\u001b[0m\n\u001b[0;32m-> 2514\u001b[0;31m                 \u001b[0mbatch_samples\u001b[0m\u001b[0;34m,\u001b[0m \u001b[0mnum_items_in_batch\u001b[0m \u001b[0;34m=\u001b[0m \u001b[0mself\u001b[0m\u001b[0;34m.\u001b[0m\u001b[0mget_batch_samples\u001b[0m\u001b[0;34m(\u001b[0m\u001b[0mepoch_iterator\u001b[0m\u001b[0;34m,\u001b[0m \u001b[0mnum_batches\u001b[0m\u001b[0;34m,\u001b[0m \u001b[0margs\u001b[0m\u001b[0;34m.\u001b[0m\u001b[0mdevice\u001b[0m\u001b[0;34m)\u001b[0m\u001b[0;34m\u001b[0m\u001b[0;34m\u001b[0m\u001b[0m\n\u001b[0m\u001b[1;32m   2515\u001b[0m                 \u001b[0;32mfor\u001b[0m \u001b[0mi\u001b[0m\u001b[0;34m,\u001b[0m \u001b[0minputs\u001b[0m \u001b[0;32min\u001b[0m \u001b[0menumerate\u001b[0m\u001b[0;34m(\u001b[0m\u001b[0mbatch_samples\u001b[0m\u001b[0;34m)\u001b[0m\u001b[0;34m:\u001b[0m\u001b[0;34m\u001b[0m\u001b[0;34m\u001b[0m\u001b[0m\n\u001b[1;32m   2516\u001b[0m                     \u001b[0mstep\u001b[0m \u001b[0;34m+=\u001b[0m \u001b[0;36m1\u001b[0m\u001b[0;34m\u001b[0m\u001b[0;34m\u001b[0m\u001b[0m\n",
      "\u001b[0;32m/usr/local/lib/python3.11/dist-packages/transformers/trainer.py\u001b[0m in \u001b[0;36mget_batch_samples\u001b[0;34m(self, epoch_iterator, num_batches, device)\u001b[0m\n\u001b[1;32m   5241\u001b[0m         \u001b[0;32mfor\u001b[0m \u001b[0m_\u001b[0m \u001b[0;32min\u001b[0m \u001b[0mrange\u001b[0m\u001b[0;34m(\u001b[0m\u001b[0mnum_batches\u001b[0m\u001b[0;34m)\u001b[0m\u001b[0;34m:\u001b[0m\u001b[0;34m\u001b[0m\u001b[0;34m\u001b[0m\u001b[0m\n\u001b[1;32m   5242\u001b[0m             \u001b[0;32mtry\u001b[0m\u001b[0;34m:\u001b[0m\u001b[0;34m\u001b[0m\u001b[0;34m\u001b[0m\u001b[0m\n\u001b[0;32m-> 5243\u001b[0;31m                 \u001b[0mbatch_samples\u001b[0m\u001b[0;34m.\u001b[0m\u001b[0mappend\u001b[0m\u001b[0;34m(\u001b[0m\u001b[0mnext\u001b[0m\u001b[0;34m(\u001b[0m\u001b[0mepoch_iterator\u001b[0m\u001b[0;34m)\u001b[0m\u001b[0;34m)\u001b[0m\u001b[0;34m\u001b[0m\u001b[0;34m\u001b[0m\u001b[0m\n\u001b[0m\u001b[1;32m   5244\u001b[0m             \u001b[0;32mexcept\u001b[0m \u001b[0mStopIteration\u001b[0m\u001b[0;34m:\u001b[0m\u001b[0;34m\u001b[0m\u001b[0;34m\u001b[0m\u001b[0m\n\u001b[1;32m   5245\u001b[0m                 \u001b[0;32mbreak\u001b[0m\u001b[0;34m\u001b[0m\u001b[0;34m\u001b[0m\u001b[0m\n",
      "\u001b[0;32m/usr/local/lib/python3.11/dist-packages/accelerate/data_loader.py\u001b[0m in \u001b[0;36m__iter__\u001b[0;34m(self)\u001b[0m\n\u001b[1;32m    575\u001b[0m                     \u001b[0mcurrent_batch\u001b[0m \u001b[0;34m=\u001b[0m \u001b[0msend_to_device\u001b[0m\u001b[0;34m(\u001b[0m\u001b[0mcurrent_batch\u001b[0m\u001b[0;34m,\u001b[0m \u001b[0mself\u001b[0m\u001b[0;34m.\u001b[0m\u001b[0mdevice\u001b[0m\u001b[0;34m,\u001b[0m \u001b[0mnon_blocking\u001b[0m\u001b[0;34m=\u001b[0m\u001b[0mself\u001b[0m\u001b[0;34m.\u001b[0m\u001b[0m_non_blocking\u001b[0m\u001b[0;34m)\u001b[0m\u001b[0;34m\u001b[0m\u001b[0;34m\u001b[0m\u001b[0m\n\u001b[1;32m    576\u001b[0m                 \u001b[0mself\u001b[0m\u001b[0;34m.\u001b[0m\u001b[0m_update_state_dict\u001b[0m\u001b[0;34m(\u001b[0m\u001b[0;34m)\u001b[0m\u001b[0;34m\u001b[0m\u001b[0;34m\u001b[0m\u001b[0m\n\u001b[0;32m--> 577\u001b[0;31m                 \u001b[0mnext_batch\u001b[0m \u001b[0;34m=\u001b[0m \u001b[0mnext\u001b[0m\u001b[0;34m(\u001b[0m\u001b[0mdataloader_iter\u001b[0m\u001b[0;34m)\u001b[0m\u001b[0;34m\u001b[0m\u001b[0;34m\u001b[0m\u001b[0m\n\u001b[0m\u001b[1;32m    578\u001b[0m                 \u001b[0;32mif\u001b[0m \u001b[0mbatch_index\u001b[0m \u001b[0;34m>=\u001b[0m \u001b[0mself\u001b[0m\u001b[0;34m.\u001b[0m\u001b[0mskip_batches\u001b[0m\u001b[0;34m:\u001b[0m\u001b[0;34m\u001b[0m\u001b[0;34m\u001b[0m\u001b[0m\n\u001b[1;32m    579\u001b[0m                     \u001b[0;32myield\u001b[0m \u001b[0mcurrent_batch\u001b[0m\u001b[0;34m\u001b[0m\u001b[0;34m\u001b[0m\u001b[0m\n",
      "\u001b[0;32m/usr/local/lib/python3.11/dist-packages/torch/utils/data/dataloader.py\u001b[0m in \u001b[0;36m__next__\u001b[0;34m(self)\u001b[0m\n\u001b[1;32m    706\u001b[0m                 \u001b[0;31m# TODO(https://github.com/pytorch/pytorch/issues/76750)\u001b[0m\u001b[0;34m\u001b[0m\u001b[0;34m\u001b[0m\u001b[0m\n\u001b[1;32m    707\u001b[0m                 \u001b[0mself\u001b[0m\u001b[0;34m.\u001b[0m\u001b[0m_reset\u001b[0m\u001b[0;34m(\u001b[0m\u001b[0;34m)\u001b[0m  \u001b[0;31m# type: ignore[call-arg]\u001b[0m\u001b[0;34m\u001b[0m\u001b[0;34m\u001b[0m\u001b[0m\n\u001b[0;32m--> 708\u001b[0;31m             \u001b[0mdata\u001b[0m \u001b[0;34m=\u001b[0m \u001b[0mself\u001b[0m\u001b[0;34m.\u001b[0m\u001b[0m_next_data\u001b[0m\u001b[0;34m(\u001b[0m\u001b[0;34m)\u001b[0m\u001b[0;34m\u001b[0m\u001b[0;34m\u001b[0m\u001b[0m\n\u001b[0m\u001b[1;32m    709\u001b[0m             \u001b[0mself\u001b[0m\u001b[0;34m.\u001b[0m\u001b[0m_num_yielded\u001b[0m \u001b[0;34m+=\u001b[0m \u001b[0;36m1\u001b[0m\u001b[0;34m\u001b[0m\u001b[0;34m\u001b[0m\u001b[0m\n\u001b[1;32m    710\u001b[0m             if (\n",
      "\u001b[0;32m/usr/local/lib/python3.11/dist-packages/torch/utils/data/dataloader.py\u001b[0m in \u001b[0;36m_next_data\u001b[0;34m(self)\u001b[0m\n\u001b[1;32m    762\u001b[0m     \u001b[0;32mdef\u001b[0m \u001b[0m_next_data\u001b[0m\u001b[0;34m(\u001b[0m\u001b[0mself\u001b[0m\u001b[0;34m)\u001b[0m\u001b[0;34m:\u001b[0m\u001b[0;34m\u001b[0m\u001b[0;34m\u001b[0m\u001b[0m\n\u001b[1;32m    763\u001b[0m         \u001b[0mindex\u001b[0m \u001b[0;34m=\u001b[0m \u001b[0mself\u001b[0m\u001b[0;34m.\u001b[0m\u001b[0m_next_index\u001b[0m\u001b[0;34m(\u001b[0m\u001b[0;34m)\u001b[0m  \u001b[0;31m# may raise StopIteration\u001b[0m\u001b[0;34m\u001b[0m\u001b[0;34m\u001b[0m\u001b[0m\n\u001b[0;32m--> 764\u001b[0;31m         \u001b[0mdata\u001b[0m \u001b[0;34m=\u001b[0m \u001b[0mself\u001b[0m\u001b[0;34m.\u001b[0m\u001b[0m_dataset_fetcher\u001b[0m\u001b[0;34m.\u001b[0m\u001b[0mfetch\u001b[0m\u001b[0;34m(\u001b[0m\u001b[0mindex\u001b[0m\u001b[0;34m)\u001b[0m  \u001b[0;31m# may raise StopIteration\u001b[0m\u001b[0;34m\u001b[0m\u001b[0;34m\u001b[0m\u001b[0m\n\u001b[0m\u001b[1;32m    765\u001b[0m         \u001b[0;32mif\u001b[0m \u001b[0mself\u001b[0m\u001b[0;34m.\u001b[0m\u001b[0m_pin_memory\u001b[0m\u001b[0;34m:\u001b[0m\u001b[0;34m\u001b[0m\u001b[0;34m\u001b[0m\u001b[0m\n\u001b[1;32m    766\u001b[0m             \u001b[0mdata\u001b[0m \u001b[0;34m=\u001b[0m \u001b[0m_utils\u001b[0m\u001b[0;34m.\u001b[0m\u001b[0mpin_memory\u001b[0m\u001b[0;34m.\u001b[0m\u001b[0mpin_memory\u001b[0m\u001b[0;34m(\u001b[0m\u001b[0mdata\u001b[0m\u001b[0;34m,\u001b[0m \u001b[0mself\u001b[0m\u001b[0;34m.\u001b[0m\u001b[0m_pin_memory_device\u001b[0m\u001b[0;34m)\u001b[0m\u001b[0;34m\u001b[0m\u001b[0;34m\u001b[0m\u001b[0m\n",
      "\u001b[0;32m/usr/local/lib/python3.11/dist-packages/torch/utils/data/_utils/fetch.py\u001b[0m in \u001b[0;36mfetch\u001b[0;34m(self, possibly_batched_index)\u001b[0m\n\u001b[1;32m     50\u001b[0m                 \u001b[0mdata\u001b[0m \u001b[0;34m=\u001b[0m \u001b[0mself\u001b[0m\u001b[0;34m.\u001b[0m\u001b[0mdataset\u001b[0m\u001b[0;34m.\u001b[0m\u001b[0m__getitems__\u001b[0m\u001b[0;34m(\u001b[0m\u001b[0mpossibly_batched_index\u001b[0m\u001b[0;34m)\u001b[0m\u001b[0;34m\u001b[0m\u001b[0;34m\u001b[0m\u001b[0m\n\u001b[1;32m     51\u001b[0m             \u001b[0;32melse\u001b[0m\u001b[0;34m:\u001b[0m\u001b[0;34m\u001b[0m\u001b[0;34m\u001b[0m\u001b[0m\n\u001b[0;32m---> 52\u001b[0;31m                 \u001b[0mdata\u001b[0m \u001b[0;34m=\u001b[0m \u001b[0;34m[\u001b[0m\u001b[0mself\u001b[0m\u001b[0;34m.\u001b[0m\u001b[0mdataset\u001b[0m\u001b[0;34m[\u001b[0m\u001b[0midx\u001b[0m\u001b[0;34m]\u001b[0m \u001b[0;32mfor\u001b[0m \u001b[0midx\u001b[0m \u001b[0;32min\u001b[0m \u001b[0mpossibly_batched_index\u001b[0m\u001b[0;34m]\u001b[0m\u001b[0;34m\u001b[0m\u001b[0;34m\u001b[0m\u001b[0m\n\u001b[0m\u001b[1;32m     53\u001b[0m         \u001b[0;32melse\u001b[0m\u001b[0;34m:\u001b[0m\u001b[0;34m\u001b[0m\u001b[0;34m\u001b[0m\u001b[0m\n\u001b[1;32m     54\u001b[0m             \u001b[0mdata\u001b[0m \u001b[0;34m=\u001b[0m \u001b[0mself\u001b[0m\u001b[0;34m.\u001b[0m\u001b[0mdataset\u001b[0m\u001b[0;34m[\u001b[0m\u001b[0mpossibly_batched_index\u001b[0m\u001b[0;34m]\u001b[0m\u001b[0;34m\u001b[0m\u001b[0;34m\u001b[0m\u001b[0m\n",
      "\u001b[0;32m/usr/local/lib/python3.11/dist-packages/torch/utils/data/_utils/fetch.py\u001b[0m in \u001b[0;36m<listcomp>\u001b[0;34m(.0)\u001b[0m\n\u001b[1;32m     50\u001b[0m                 \u001b[0mdata\u001b[0m \u001b[0;34m=\u001b[0m \u001b[0mself\u001b[0m\u001b[0;34m.\u001b[0m\u001b[0mdataset\u001b[0m\u001b[0;34m.\u001b[0m\u001b[0m__getitems__\u001b[0m\u001b[0;34m(\u001b[0m\u001b[0mpossibly_batched_index\u001b[0m\u001b[0;34m)\u001b[0m\u001b[0;34m\u001b[0m\u001b[0;34m\u001b[0m\u001b[0m\n\u001b[1;32m     51\u001b[0m             \u001b[0;32melse\u001b[0m\u001b[0;34m:\u001b[0m\u001b[0;34m\u001b[0m\u001b[0;34m\u001b[0m\u001b[0m\n\u001b[0;32m---> 52\u001b[0;31m                 \u001b[0mdata\u001b[0m \u001b[0;34m=\u001b[0m \u001b[0;34m[\u001b[0m\u001b[0mself\u001b[0m\u001b[0;34m.\u001b[0m\u001b[0mdataset\u001b[0m\u001b[0;34m[\u001b[0m\u001b[0midx\u001b[0m\u001b[0;34m]\u001b[0m \u001b[0;32mfor\u001b[0m \u001b[0midx\u001b[0m \u001b[0;32min\u001b[0m \u001b[0mpossibly_batched_index\u001b[0m\u001b[0;34m]\u001b[0m\u001b[0;34m\u001b[0m\u001b[0;34m\u001b[0m\u001b[0m\n\u001b[0m\u001b[1;32m     53\u001b[0m         \u001b[0;32melse\u001b[0m\u001b[0;34m:\u001b[0m\u001b[0;34m\u001b[0m\u001b[0;34m\u001b[0m\u001b[0m\n\u001b[1;32m     54\u001b[0m             \u001b[0mdata\u001b[0m \u001b[0;34m=\u001b[0m \u001b[0mself\u001b[0m\u001b[0;34m.\u001b[0m\u001b[0mdataset\u001b[0m\u001b[0;34m[\u001b[0m\u001b[0mpossibly_batched_index\u001b[0m\u001b[0;34m]\u001b[0m\u001b[0;34m\u001b[0m\u001b[0;34m\u001b[0m\u001b[0m\n",
      "\u001b[0;32m<ipython-input-96-ee88d8b81e06>\u001b[0m in \u001b[0;36m__getitem__\u001b[0;34m(self, idx)\u001b[0m\n\u001b[1;32m     47\u001b[0m         \u001b[0;31m# Load image using PIL and convert to numpy array\u001b[0m\u001b[0;34m\u001b[0m\u001b[0;34m\u001b[0m\u001b[0m\n\u001b[1;32m     48\u001b[0m         \u001b[0mimage_path\u001b[0m \u001b[0;34m=\u001b[0m \u001b[0mos\u001b[0m\u001b[0;34m.\u001b[0m\u001b[0mpath\u001b[0m\u001b[0;34m.\u001b[0m\u001b[0mjoin\u001b[0m\u001b[0;34m(\u001b[0m\u001b[0mself\u001b[0m\u001b[0;34m.\u001b[0m\u001b[0mimage_dir\u001b[0m\u001b[0;34m,\u001b[0m \u001b[0mimage_info\u001b[0m\u001b[0;34m[\u001b[0m\u001b[0;34m\"file_name\"\u001b[0m\u001b[0;34m]\u001b[0m\u001b[0;34m)\u001b[0m\u001b[0;34m\u001b[0m\u001b[0;34m\u001b[0m\u001b[0m\n\u001b[0;32m---> 49\u001b[0;31m         \u001b[0mimage\u001b[0m \u001b[0;34m=\u001b[0m \u001b[0mImage\u001b[0m\u001b[0;34m.\u001b[0m\u001b[0mopen\u001b[0m\u001b[0;34m(\u001b[0m\u001b[0mimage_path\u001b[0m\u001b[0;34m)\u001b[0m\u001b[0;34m.\u001b[0m\u001b[0mconvert\u001b[0m\u001b[0;34m(\u001b[0m\u001b[0;34m\"RGB\"\u001b[0m\u001b[0;34m)\u001b[0m\u001b[0;34m\u001b[0m\u001b[0;34m\u001b[0m\u001b[0m\n\u001b[0m\u001b[1;32m     50\u001b[0m         \u001b[0mimage_np\u001b[0m \u001b[0;34m=\u001b[0m \u001b[0mnp\u001b[0m\u001b[0;34m.\u001b[0m\u001b[0marray\u001b[0m\u001b[0;34m(\u001b[0m\u001b[0mimage\u001b[0m\u001b[0;34m)\u001b[0m\u001b[0;34m\u001b[0m\u001b[0;34m\u001b[0m\u001b[0m\n\u001b[1;32m     51\u001b[0m \u001b[0;34m\u001b[0m\u001b[0m\n",
      "\u001b[0;32m/usr/local/lib/python3.11/dist-packages/PIL/Image.py\u001b[0m in \u001b[0;36mopen\u001b[0;34m(fp, mode, formats)\u001b[0m\n\u001b[1;32m   3474\u001b[0m         \u001b[0mexclusive_fp\u001b[0m \u001b[0;34m=\u001b[0m \u001b[0;32mTrue\u001b[0m\u001b[0;34m\u001b[0m\u001b[0;34m\u001b[0m\u001b[0m\n\u001b[1;32m   3475\u001b[0m \u001b[0;34m\u001b[0m\u001b[0m\n\u001b[0;32m-> 3476\u001b[0;31m     \u001b[0mprefix\u001b[0m \u001b[0;34m=\u001b[0m \u001b[0mfp\u001b[0m\u001b[0;34m.\u001b[0m\u001b[0mread\u001b[0m\u001b[0;34m(\u001b[0m\u001b[0;36m16\u001b[0m\u001b[0;34m)\u001b[0m\u001b[0;34m\u001b[0m\u001b[0;34m\u001b[0m\u001b[0m\n\u001b[0m\u001b[1;32m   3477\u001b[0m \u001b[0;34m\u001b[0m\u001b[0m\n\u001b[1;32m   3478\u001b[0m     \u001b[0mpreinit\u001b[0m\u001b[0;34m(\u001b[0m\u001b[0;34m)\u001b[0m\u001b[0;34m\u001b[0m\u001b[0;34m\u001b[0m\u001b[0m\n",
      "\u001b[0;31mKeyboardInterrupt\u001b[0m: "
     ]
    }
   ],
   "source": [
    "trainer.train()"
   ]
  },
  {
   "cell_type": "code",
   "execution_count": null,
   "metadata": {
    "id": "7fGpr5I4j_qN"
   },
   "outputs": [],
   "source": []
  }
 ],
 "metadata": {
  "accelerator": "GPU",
  "colab": {
   "authorship_tag": "ABX9TyMC8orHDciB2gHbK6OcVNvx",
   "gpuType": "T4",
   "mount_file_id": "1GSQWAWKgOeVjSbWUos7iZuDBAbCyVyRM",
   "provenance": []
  },
  "kernelspec": {
   "display_name": "Python 3",
   "name": "python3"
  },
  "language_info": {
   "codemirror_mode": {
    "name": "ipython",
    "version": 3
   },
   "file_extension": ".py",
   "mimetype": "text/x-python",
   "name": "python",
   "nbconvert_exporter": "python",
   "pygments_lexer": "ipython3",
   "version": "3.10.11"
  }
 },
 "nbformat": 4,
 "nbformat_minor": 0
}
